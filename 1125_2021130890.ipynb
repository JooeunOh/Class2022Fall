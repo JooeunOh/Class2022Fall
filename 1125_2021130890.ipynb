{
  "nbformat": 4,
  "nbformat_minor": 0,
  "metadata": {
    "colab": {
      "provenance": [],
      "authorship_tag": "ABX9TyMRXGtsZ4+UdRwL3+TL9hnk",
      "include_colab_link": true
    },
    "kernelspec": {
      "name": "python3",
      "display_name": "Python 3"
    },
    "language_info": {
      "name": "python"
    }
  },
  "cells": [
    {
      "cell_type": "markdown",
      "metadata": {
        "id": "view-in-github",
        "colab_type": "text"
      },
      "source": [
        "<a href=\"https://colab.research.google.com/github/JooeunOh/Class2022Fall/blob/main/1125_2021130890.ipynb\" target=\"_parent\"><img src=\"https://colab.research.google.com/assets/colab-badge.svg\" alt=\"Open In Colab\"/></a>"
      ]
    },
    {
      "cell_type": "code",
      "execution_count": null,
      "metadata": {
        "id": "iU3mPGgM_uwl"
      },
      "outputs": [],
      "source": [
        "!pip install gradio\n",
        "import gradio as gr\n",
        "import requests\n",
        "import pandas as pd\n",
        "\n",
        "!pip install xmltodict\n",
        "import json\n",
        "import xmltodict"
      ]
    },
    {
      "cell_type": "code",
      "source": [
        "def test(bookID):\n",
        "  str(bookID)\n",
        "  URL = ('https://product.kyobobook.co.kr/api/review/list?page=1&pageLimit=10000&reviewSort=001&revwPatrCode=000&saleCmdtid='+bookID)  \n",
        "  response = requests.get(URL)\n",
        "  json_text=response.text\n",
        "  dict_data = json.loads(json_text)\n",
        "  item = dict_data['data']['reviewList']\n",
        "  items=list()\n",
        "  for i in range(0, len(item)):\n",
        "    items.append(i)\n",
        "  for i in range(0, len(item)):\n",
        "    k=dict()\n",
        "    k=item[i]\n",
        "    items[i]=k['revwCntt']\n",
        "\n",
        "  df = pd.DataFrame(items)\n",
        "  \n",
        "  return df"
      ],
      "metadata": {
        "id": "AV0Rhgqv_0P7"
      },
      "execution_count": 2,
      "outputs": []
    },
    {
      "cell_type": "code",
      "source": [
        "demo = gr.Interface(fn=test, inputs=[\"text\"], outputs=\"dataframe\")\n",
        "demo.launch(share=True)"
      ],
      "metadata": {
        "id": "rD_sJAb7_1ig"
      },
      "execution_count": null,
      "outputs": []
    }
  ]
}